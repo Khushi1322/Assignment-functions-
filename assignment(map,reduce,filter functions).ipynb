{
 "cells": [
  {
   "cell_type": "markdown",
   "id": "7c36611a-1fb5-4596-b3db-2275a0e90c43",
   "metadata": {},
   "source": [
    "Q2 : write a python program to find the square of all numbers in the given list of integers using lambda and map function"
   ]
  },
  {
   "cell_type": "code",
   "execution_count": 2,
   "id": "27dc6a99-2aca-4a1a-88b6-a000ef39c5b1",
   "metadata": {},
   "outputs": [],
   "source": [
    "l=[1,2,3,4,5,6,7,8,9,10]"
   ]
  },
  {
   "cell_type": "code",
   "execution_count": 4,
   "id": "e74f8098-922e-4cdf-9557-417b90237955",
   "metadata": {},
   "outputs": [
    {
     "data": {
      "text/plain": [
       "[1, 4, 9, 16, 25, 36, 49, 64, 81, 100]"
      ]
     },
     "execution_count": 4,
     "metadata": {},
     "output_type": "execute_result"
    }
   ],
   "source": [
    "list(map(lambda x: x**2,l ))"
   ]
  },
  {
   "cell_type": "markdown",
   "id": "7480e334-9aee-42b2-b39c-3bbe2cfb8589",
   "metadata": {},
   "source": [
    "Q3: write a python program to convert the given list of integers into a tuple of string.use map and lambda functions."
   ]
  },
  {
   "cell_type": "code",
   "execution_count": 16,
   "id": "39b44591-59a4-44af-877f-468598b32df3",
   "metadata": {},
   "outputs": [],
   "source": [
    "l=[1,2,3,4,5,6,7,8,9,10]"
   ]
  },
  {
   "cell_type": "code",
   "execution_count": 21,
   "id": "2d3b200c-6fab-4d2c-9b04-68f399925d8c",
   "metadata": {},
   "outputs": [
    {
     "data": {
      "text/plain": [
       "(1, 2, 3, 4, 5, 6, 7, 8, 9, 10)"
      ]
     },
     "execution_count": 21,
     "metadata": {},
     "output_type": "execute_result"
    }
   ],
   "source": [
    "tuple(map(lambda l:l,l))"
   ]
  },
  {
   "cell_type": "markdown",
   "id": "9bf1426e-63b3-4c39-8dbb-bffd5dc8adfc",
   "metadata": {},
   "source": [
    "Q4: write a python program using reduce function to compute the product of all list containing numbers from 1 to 25."
   ]
  },
  {
   "cell_type": "code",
   "execution_count": 24,
   "id": "a9fb1b7e-2eff-4438-a7e4-6da4024805ec",
   "metadata": {},
   "outputs": [],
   "source": [
    "from functools import reduce"
   ]
  },
  {
   "cell_type": "code",
   "execution_count": 25,
   "id": "44b4a505-af91-453b-aecd-45d685f7f535",
   "metadata": {},
   "outputs": [],
   "source": [
    "l=[1,2,3,4,5,6,7,8,9,10,11,12,13,14,15,16,17,18,19,20,21,22,23,24,25]"
   ]
  },
  {
   "cell_type": "code",
   "execution_count": 26,
   "id": "4a1ee84e-e9cb-4b79-9e5b-f71a075844df",
   "metadata": {},
   "outputs": [
    {
     "data": {
      "text/plain": [
       "15511210043330985984000000"
      ]
     },
     "execution_count": 26,
     "metadata": {},
     "output_type": "execute_result"
    }
   ],
   "source": [
    "reduce(lambda x,y: x*y ,l)"
   ]
  },
  {
   "cell_type": "markdown",
   "id": "92d36d9a-d8af-4e6f-9363-20a37843263c",
   "metadata": {},
   "source": [
    "Q5: write a python program to filter the numbers in a given list that are divisible by 2 and 3 using the filter function"
   ]
  },
  {
   "cell_type": "code",
   "execution_count": 27,
   "id": "b69ea5d8-48b5-4e2c-a300-112e56dc075b",
   "metadata": {},
   "outputs": [],
   "source": [
    "l=[2,3,6,9,27,60,90,120,55,46]"
   ]
  },
  {
   "cell_type": "code",
   "execution_count": 32,
   "id": "a51d504b-8f47-420d-abfb-05e88f046ddf",
   "metadata": {},
   "outputs": [
    {
     "data": {
      "text/plain": [
       "[6, 60, 90, 120]"
      ]
     },
     "execution_count": 32,
     "metadata": {},
     "output_type": "execute_result"
    }
   ],
   "source": [
    "list(filter(lambda x : x%2==0 and x%3==0 ,l))"
   ]
  },
  {
   "cell_type": "code",
   "execution_count": null,
   "id": "a2ebed22-50aa-4c89-befa-771b6df632a2",
   "metadata": {},
   "outputs": [],
   "source": [
    "Q6: "
   ]
  }
 ],
 "metadata": {
  "kernelspec": {
   "display_name": "Python 3 (ipykernel)",
   "language": "python",
   "name": "python3"
  },
  "language_info": {
   "codemirror_mode": {
    "name": "ipython",
    "version": 3
   },
   "file_extension": ".py",
   "mimetype": "text/x-python",
   "name": "python",
   "nbconvert_exporter": "python",
   "pygments_lexer": "ipython3",
   "version": "3.10.8"
  }
 },
 "nbformat": 4,
 "nbformat_minor": 5
}
